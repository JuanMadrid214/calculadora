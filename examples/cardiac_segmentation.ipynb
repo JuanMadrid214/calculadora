{
  "cells": [
    {
      "cell_type": "markdown",
      "metadata": {
        "id": "tOVQSP_-zHNM"
      },
      "source": [
        "# Cardiac Sub-Structure Segmentation Example\n",
        "\n",
        "> Important: When running on Google Colab, ensure you change your runtime to use a GPU before\n",
        "proceeding (Runtime->Change runtime type, select GPU as Hardware accelerator and press Save)\n",
        "\n",
        "## Import Modules"
      ]
    },
    {
      "cell_type": "code",
      "execution_count": 1,
      "metadata": {
        "id": "F3W_O8h9zHNO"
      },
      "outputs": [],
      "source": [
        "try:\n",
        "    import platipy\n",
        "except:\n",
        "    # We install platipy with the 'cardiac' extra since that contains some extra libraries we need.\n",
        "    !pip install platipy[cardiac]\n",
        "    import platipy\n",
        "\n",
        "from matplotlib import pyplot as plt\n",
        "\n",
        "import SimpleITK as sitk\n",
        "\n",
        "from platipy.imaging.tests.data import get_lung_nifti\n",
        "from platipy.imaging.projects.cardiac.run import run_hybrid_segmentation\n",
        "from platipy.imaging import ImageVisualiser\n",
        "from platipy.imaging.label.utils import get_com"
      ]
    },
    {
      "cell_type": "markdown",
      "metadata": {
        "id": "DDUWKXx9zHNP"
      },
      "source": [
        "## Download Test Data\n",
        "\n",
        "This will download lung cancer patient CT scans, with contours of several structures.\n",
        "This only has to be done once - if it is ran again don't worry, the same data will not be downloaded again!"
      ]
    },
    {
      "cell_type": "code",
      "execution_count": 2,
      "metadata": {
        "tags": [],
        "id": "9KgLX493zHNP"
      },
      "outputs": [],
      "source": [
        "data_path = get_lung_nifti()"
      ]
    },
    {
      "cell_type": "markdown",
      "metadata": {
        "id": "xUTf0UbazHNQ"
      },
      "source": [
        "## Load Test Image\n",
        "\n",
        "Read in the image we want to automatically segment\n"
      ]
    },
    {
      "cell_type": "code",
      "execution_count": 3,
      "metadata": {
        "id": "rJfbqjsYzHNQ"
      },
      "outputs": [],
      "source": [
        "test_pat_path = data_path.joinpath(\"LCTSC-Test-S1-201\")\n",
        "test_image = sitk.ReadImage(str(test_pat_path.joinpath(\"IMAGES/LCTSC_TEST_S1_201_0_CT_0.nii.gz\")))"
      ]
    },
    {
      "cell_type": "markdown",
      "metadata": {
        "id": "-e0Ko5DuzHNQ"
      },
      "source": [
        "## Run Auto-segmentation\n",
        "\n",
        "This will take some time, and will print updates along the way\n"
      ]
    },
    {
      "cell_type": "code",
      "source": [
        "pip install numpy==1.24.4 torch==2.1.2\n"
      ],
      "metadata": {
        "id": "5ttL3v3gzeIl",
        "outputId": "01d2c346-8434-45f4-8db4-ef30bc272fb2",
        "colab": {
          "base_uri": "https://localhost:8080/"
        }
      },
      "execution_count": 4,
      "outputs": [
        {
          "output_type": "stream",
          "name": "stdout",
          "text": [
            "Requirement already satisfied: numpy==1.24.4 in /usr/local/lib/python3.11/dist-packages (1.24.4)\n",
            "Requirement already satisfied: torch==2.1.2 in /usr/local/lib/python3.11/dist-packages (2.1.2)\n",
            "Requirement already satisfied: filelock in /usr/local/lib/python3.11/dist-packages (from torch==2.1.2) (3.18.0)\n",
            "Requirement already satisfied: typing-extensions in /usr/local/lib/python3.11/dist-packages (from torch==2.1.2) (4.13.2)\n",
            "Requirement already satisfied: sympy in /usr/local/lib/python3.11/dist-packages (from torch==2.1.2) (1.13.1)\n",
            "Requirement already satisfied: networkx in /usr/local/lib/python3.11/dist-packages (from torch==2.1.2) (3.4.2)\n",
            "Requirement already satisfied: jinja2 in /usr/local/lib/python3.11/dist-packages (from torch==2.1.2) (3.1.6)\n",
            "Requirement already satisfied: fsspec in /usr/local/lib/python3.11/dist-packages (from torch==2.1.2) (2025.3.2)\n",
            "Requirement already satisfied: nvidia-cuda-nvrtc-cu12==12.1.105 in /usr/local/lib/python3.11/dist-packages (from torch==2.1.2) (12.1.105)\n",
            "Requirement already satisfied: nvidia-cuda-runtime-cu12==12.1.105 in /usr/local/lib/python3.11/dist-packages (from torch==2.1.2) (12.1.105)\n",
            "Requirement already satisfied: nvidia-cuda-cupti-cu12==12.1.105 in /usr/local/lib/python3.11/dist-packages (from torch==2.1.2) (12.1.105)\n",
            "Requirement already satisfied: nvidia-cudnn-cu12==8.9.2.26 in /usr/local/lib/python3.11/dist-packages (from torch==2.1.2) (8.9.2.26)\n",
            "Requirement already satisfied: nvidia-cublas-cu12==12.1.3.1 in /usr/local/lib/python3.11/dist-packages (from torch==2.1.2) (12.1.3.1)\n",
            "Requirement already satisfied: nvidia-cufft-cu12==11.0.2.54 in /usr/local/lib/python3.11/dist-packages (from torch==2.1.2) (11.0.2.54)\n",
            "Requirement already satisfied: nvidia-curand-cu12==10.3.2.106 in /usr/local/lib/python3.11/dist-packages (from torch==2.1.2) (10.3.2.106)\n",
            "Requirement already satisfied: nvidia-cusolver-cu12==11.4.5.107 in /usr/local/lib/python3.11/dist-packages (from torch==2.1.2) (11.4.5.107)\n",
            "Requirement already satisfied: nvidia-cusparse-cu12==12.1.0.106 in /usr/local/lib/python3.11/dist-packages (from torch==2.1.2) (12.1.0.106)\n",
            "Requirement already satisfied: nvidia-nccl-cu12==2.18.1 in /usr/local/lib/python3.11/dist-packages (from torch==2.1.2) (2.18.1)\n",
            "Requirement already satisfied: nvidia-nvtx-cu12==12.1.105 in /usr/local/lib/python3.11/dist-packages (from torch==2.1.2) (12.1.105)\n",
            "Requirement already satisfied: triton==2.1.0 in /usr/local/lib/python3.11/dist-packages (from torch==2.1.2) (2.1.0)\n",
            "Requirement already satisfied: nvidia-nvjitlink-cu12 in /usr/local/lib/python3.11/dist-packages (from nvidia-cusolver-cu12==11.4.5.107->torch==2.1.2) (12.4.127)\n",
            "Requirement already satisfied: MarkupSafe>=2.0 in /usr/local/lib/python3.11/dist-packages (from jinja2->torch==2.1.2) (3.0.2)\n",
            "Requirement already satisfied: mpmath<1.4,>=1.1.0 in /usr/local/lib/python3.11/dist-packages (from sympy->torch==2.1.2) (1.3.0)\n"
          ]
        }
      ]
    },
    {
      "cell_type": "code",
      "execution_count": 5,
      "metadata": {
        "tags": [],
        "id": "2V1n4tHLzHNQ",
        "outputId": "4c035026-c493-47d1-af33-28fec0248a46",
        "colab": {
          "base_uri": "https://localhost:8080/"
        }
      },
      "outputs": [
        {
          "output_type": "stream",
          "name": "stdout",
          "text": [
            "\n",
            "\n",
            "Please cite the following paper when using nnUNet:\n",
            "\n",
            "Isensee, F., Jaeger, P.F., Kohl, S.A.A. et al. \"nnU-Net: a self-configuring method for deep learning-based biomedical image segmentation.\" Nat Methods (2020). https://doi.org/10.1038/s41592-020-01008-z\n",
            "\n",
            "\n",
            "If you have questions or suggestions, feel free to open an issue at https://github.com/MIC-DKFZ/nnUNet\n",
            "\n",
            "/root/.platipy/nnUNet_models/nnUNet/3d_lowres/Task400_OPEN_HEART_1FOLD\n",
            "This model expects 1 input modalities for each image\n",
            "Found 1 unique case ids, here are some examples: ['Task400_OPEN_HEART_1FOLD']\n",
            "If they don't look right, make sure to double check your filenames. They must end with _0000.nii.gz etc\n",
            "emptying cuda cache\n",
            "loading parameters for folds, all\n",
            "using the following model files:  ['/root/.platipy/nnUNet_models/nnUNet/3d_lowres/Task400_OPEN_HEART_1FOLD/nnUNetTrainerV2__nnUNetPlansv2.1/all/model_final_checkpoint.model']\n",
            "starting preprocessing generator\n",
            "starting prediction...\n",
            "preprocessing /tmp/tmpma470qt3/Task400_OPEN_HEART_1FOLD.nii.gz\n",
            "using preprocessor GenericPreprocessor\n",
            "before crop: (1, 117, 512, 512) after crop: (1, 117, 512, 512) spacing: [3.        0.9765625 0.9765625] \n",
            "\n",
            "separate z, order in z is 0 order inplane is 3\n",
            "separate z, order in z is 0 order inplane is 1\n",
            "before: {'spacing': array([3.       , 0.9765625, 0.9765625]), 'spacing_transposed': array([3.       , 0.9765625, 0.9765625]), 'data.shape (data is transposed)': (1, 117, 512, 512)} \n",
            "after:  {'spacing': array([3.41427984, 1.72194133, 1.72194133]), 'data.shape (data is resampled)': (1, 103, 290, 290)} \n",
            "\n",
            "(1, 103, 290, 290)\n",
            "This worker has ended successfully, no errors to report\n",
            "predicting /tmp/tmpma470qt3/Task400_OPEN_HEART_1FOLD.nii.gz\n",
            "debug: mirroring True mirror_axes (0, 1, 2)\n",
            "step_size: 0.5\n",
            "do mirror: True\n",
            "data shape: (1, 103, 290, 290)\n",
            "patch size: [ 64 192 192]\n",
            "steps (x, y, and z): [[0, 20, 39], [0, 49, 98], [0, 49, 98]]\n",
            "number of tiles: 27\n",
            "computing Gaussian\n",
            "done\n",
            "prediction done\n",
            "inference done. Now waiting for the segmentation export to finish...\n",
            "force_separate_z: None interpolation order: 1\n",
            "separate z: True lowres axis [0]\n",
            "separate z, order in z is 0 order inplane is 1\n",
            "WARNING! Cannot run postprocessing because the postprocessing file is missing. Make sure to run consolidate_folds in the output folder of the model first!\n",
            "The folder you need to run this in is /root/.platipy/nnUNet_models/nnUNet/3d_lowres/Task400_OPEN_HEART_1FOLD/nnUNetTrainerV2__nnUNetPlansv2.1\n"
          ]
        }
      ],
      "source": [
        "auto_structures, _ = run_hybrid_segmentation(test_image)"
      ]
    },
    {
      "cell_type": "code",
      "source": [],
      "metadata": {
        "id": "AkKDTNHkzcwf"
      },
      "execution_count": null,
      "outputs": []
    },
    {
      "cell_type": "markdown",
      "metadata": {
        "id": "dT9UvbEJzHNQ"
      },
      "source": [
        "## Save segmentations\n",
        "Optionally write the automatic segmentations to disk\n"
      ]
    },
    {
      "cell_type": "code",
      "execution_count": 6,
      "metadata": {
        "id": "nbGGwFI_zHNQ",
        "outputId": "a28f5105-aff5-4d81-f9d6-65fb1fe052e0",
        "colab": {
          "base_uri": "https://localhost:8080/"
        }
      },
      "outputs": [
        {
          "output_type": "stream",
          "name": "stdout",
          "text": [
            "Segmentations saved to: data/nifti/lung/LCTSC-Test-S1-201/substructures\n"
          ]
        }
      ],
      "source": [
        "output_directory = test_pat_path.joinpath(\"substructures\")\n",
        "output_directory.mkdir(exist_ok=True)\n",
        "\n",
        "for struct_name in list(auto_structures.keys()):\n",
        "    sitk.WriteImage(auto_structures[struct_name], str(output_directory.joinpath(f\"{struct_name}.nii.gz\")))\n",
        "\n",
        "print(f\"Segmentations saved to: {output_directory}\")"
      ]
    },
    {
      "cell_type": "markdown",
      "metadata": {
        "id": "npE7GqRDzHNQ"
      },
      "source": [
        "## Visualise Segmentations\n",
        "\n",
        "Next, we can generate a nice figure to check what the segmentation looks like using platipy's ImageVisualiser"
      ]
    },
    {
      "cell_type": "code",
      "execution_count": 7,
      "metadata": {
        "id": "YxpdjKiZzHNQ",
        "outputId": "16c713cf-58d2-4a2e-9ee7-7b1f83920512",
        "colab": {
          "base_uri": "https://localhost:8080/"
        }
      },
      "outputs": [
        {
          "output_type": "stream",
          "name": "stdout",
          "text": [
            "Snapshot saved to: data/nifti/lung/LCTSC-Test-S1-201/substructures/snapshot.png\n"
          ]
        }
      ],
      "source": [
        "vis = ImageVisualiser(test_image, cut=get_com(auto_structures[\"Heart\"]))\n",
        "vis.add_contour({struct: auto_structures[struct] for struct in auto_structures.keys()})\n",
        "vis.set_limits_from_label(auto_structures[\"Heart\"], expansion=20)\n",
        "vis.show()\n",
        "snapshot_path = output_directory.joinpath(f\"snapshot.png\")\n",
        "plt.savefig(snapshot_path)\n",
        "print(f\"Snapshot saved to: {snapshot_path}\")"
      ]
    },
    {
      "cell_type": "code",
      "execution_count": null,
      "metadata": {
        "id": "cw8ymkkOzHNR"
      },
      "outputs": [],
      "source": []
    }
  ],
  "metadata": {
    "kernelspec": {
      "display_name": "Python 3.8.10 64-bit",
      "language": "python",
      "name": "python3"
    },
    "language_info": {
      "codemirror_mode": {
        "name": "ipython",
        "version": 3
      },
      "file_extension": ".py",
      "mimetype": "text/x-python",
      "name": "python",
      "nbconvert_exporter": "python",
      "pygments_lexer": "ipython3",
      "version": "3.8.2"
    },
    "vscode": {
      "interpreter": {
        "hash": "31f2aee4e71d21fbe5cf8b01ff0e069b9275f58929596ceb00d14d90e3e16cd6"
      }
    },
    "colab": {
      "provenance": []
    }
  },
  "nbformat": 4,
  "nbformat_minor": 0
}